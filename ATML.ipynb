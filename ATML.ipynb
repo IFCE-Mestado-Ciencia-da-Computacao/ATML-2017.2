{
 "cells": [
  {
   "cell_type": "code",
   "execution_count": 1,
   "metadata": {
    "collapsed": true
   },
   "outputs": [],
   "source": [
    "%matplotlib inline\n",
    "\n",
    "import pandas as pd\n",
    "import numpy as np"
   ]
  },
  {
   "cell_type": "markdown",
   "metadata": {},
   "source": [
    "## Read data"
   ]
  },
  {
   "cell_type": "code",
   "execution_count": 2,
   "metadata": {},
   "outputs": [
    {
     "data": {
      "text/html": [
       "<div>\n",
       "<table border=\"1\" class=\"dataframe\">\n",
       "  <thead>\n",
       "    <tr style=\"text-align: right;\">\n",
       "      <th></th>\n",
       "      <th>X_1</th>\n",
       "      <th>X_2</th>\n",
       "      <th>X_3</th>\n",
       "      <th>X_4</th>\n",
       "      <th>X_5</th>\n",
       "    </tr>\n",
       "  </thead>\n",
       "  <tbody>\n",
       "    <tr>\n",
       "      <th>0</th>\n",
       "      <td>-0.365507</td>\n",
       "      <td>-0.417066</td>\n",
       "      <td>-1.710587</td>\n",
       "      <td>-1.457053</td>\n",
       "      <td>-1.318210</td>\n",
       "    </tr>\n",
       "    <tr>\n",
       "      <th>1</th>\n",
       "      <td>-0.285047</td>\n",
       "      <td>0.498189</td>\n",
       "      <td>-2.202331</td>\n",
       "      <td>-1.701304</td>\n",
       "      <td>-1.872880</td>\n",
       "    </tr>\n",
       "    <tr>\n",
       "      <th>2</th>\n",
       "      <td>-0.018177</td>\n",
       "      <td>-0.059014</td>\n",
       "      <td>0.686316</td>\n",
       "      <td>0.696371</td>\n",
       "      <td>1.291809</td>\n",
       "    </tr>\n",
       "    <tr>\n",
       "      <th>3</th>\n",
       "      <td>-2.214677</td>\n",
       "      <td>-2.405553</td>\n",
       "      <td>-4.122834</td>\n",
       "      <td>-3.088534</td>\n",
       "      <td>-2.493587</td>\n",
       "    </tr>\n",
       "    <tr>\n",
       "      <th>4</th>\n",
       "      <td>2.294686</td>\n",
       "      <td>2.728682</td>\n",
       "      <td>3.486602</td>\n",
       "      <td>4.187874</td>\n",
       "      <td>3.850728</td>\n",
       "    </tr>\n",
       "  </tbody>\n",
       "</table>\n",
       "</div>"
      ],
      "text/plain": [
       "        X_1       X_2       X_3       X_4       X_5\n",
       "0 -0.365507 -0.417066 -1.710587 -1.457053 -1.318210\n",
       "1 -0.285047  0.498189 -2.202331 -1.701304 -1.872880\n",
       "2 -0.018177 -0.059014  0.686316  0.696371  1.291809\n",
       "3 -2.214677 -2.405553 -4.122834 -3.088534 -2.493587\n",
       "4  2.294686  2.728682  3.486602  4.187874  3.850728"
      ]
     },
     "execution_count": 2,
     "metadata": {},
     "output_type": "execute_result"
    }
   ],
   "source": [
    "data = pd.read_csv('atml-data.txt', sep='\\t', names=['X_1', 'X_2', 'X_3', 'X_4', 'X_5', 'none'])\n",
    "del data['none']\n",
    "data.head()"
   ]
  },
  {
   "cell_type": "markdown",
   "metadata": {},
   "source": [
    "## Calculate mean\n",
    "\n",
    "$$\n",
    "\\mu_j = \\frac{1}{n} \\sum_{j=1}^n x_j, ~~~~~ \\forall \\mu_j \\in \\mathbf{\\mu}\n",
    "$$\n",
    "\n",
    "Is used [pandas.DataFrame.mean](https://pandas.pydata.org/pandas-docs/stable/generated/pandas.DataFrame.mean.html)"
   ]
  },
  {
   "cell_type": "code",
   "execution_count": 3,
   "metadata": {},
   "outputs": [
    {
     "data": {
      "text/plain": [
       "X_1    0.772915\n",
       "X_2    0.920877\n",
       "X_3    0.126194\n",
       "X_4    0.909165\n",
       "X_5    0.661482\n",
       "dtype: float64"
      ]
     },
     "execution_count": 3,
     "metadata": {},
     "output_type": "execute_result"
    }
   ],
   "source": [
    "mean = data.mean()\n",
    "mean"
   ]
  },
  {
   "cell_type": "markdown",
   "metadata": {},
   "source": [
    "## Calculate covariance"
   ]
  },
  {
   "cell_type": "markdown",
   "metadata": {},
   "source": [
    "$$\n",
    "\\mathbf{\\Sigma} = \\frac{1}{n-1} \\sum_{k=1}^{n} (\\mathbf{X}^{(k)} - \\mu)(\\mathbf{X}^{(k)} - \\mu)^T\n",
    "$$"
   ]
  },
  {
   "cell_type": "code",
   "execution_count": null,
   "metadata": {
    "collapsed": true
   },
   "outputs": [],
   "source": []
  },
  {
   "cell_type": "markdown",
   "metadata": {},
   "source": [
    "## Using $numpy$ (mean and covariance)"
   ]
  },
  {
   "cell_type": "code",
   "execution_count": 4,
   "metadata": {},
   "outputs": [
    {
     "data": {
      "text/plain": [
       "X_1    0.772915\n",
       "X_2    0.920877\n",
       "X_3    0.126194\n",
       "X_4    0.909165\n",
       "X_5    0.661482\n",
       "dtype: float64"
      ]
     },
     "execution_count": 4,
     "metadata": {},
     "output_type": "execute_result"
    }
   ],
   "source": [
    "mean = np.mean(data, axis=0)\n",
    "mean"
   ]
  },
  {
   "cell_type": "code",
   "execution_count": 5,
   "metadata": {},
   "outputs": [
    {
     "data": {
      "text/plain": [
       "array([[ 1.04306317,  0.80588233,  1.16113565,  1.35940949,  0.90060135],\n",
       "       [ 0.80588233,  1.72203546,  1.73666803,  1.54732501,  1.55312727],\n",
       "       [ 1.16113565,  1.73666803,  2.87426042,  2.70179449,  2.75686331],\n",
       "       [ 1.35940949,  1.54732501,  2.70179449,  2.99116633,  2.73713501],\n",
       "       [ 0.90060135,  1.55312727,  2.75686331,  2.73713501,  2.90998099]])"
      ]
     },
     "execution_count": 5,
     "metadata": {},
     "output_type": "execute_result"
    }
   ],
   "source": [
    "cov = np.cov(data, rowvar=0)\n",
    "cov"
   ]
  },
  {
   "cell_type": "markdown",
   "metadata": {},
   "source": [
    "## 2.1) $X_2$ and $X_2 | \\mathbf{X}_{1,3,4,5} = (x_1, x_3, x_4, x_5)'$\n",
    "\n",
    "$X_2$"
   ]
  },
  {
   "cell_type": "code",
   "execution_count": 6,
   "metadata": {},
   "outputs": [
    {
     "name": "stdout",
     "output_type": "stream",
     "text": [
      "μ  =  0.920876815859\n",
      "σ² =  1.72203546301\n"
     ]
    }
   ],
   "source": [
    "print(\"μ  = \", mean[1])\n",
    "print(\"σ² = \", cov[1][1])"
   ]
  },
  {
   "cell_type": "markdown",
   "metadata": {},
   "source": [
    "For calculate the $X_{i|j} = \\mathcal{N}(\\mu_{i|j}, \\Sigma_{i|j})$, we can use the following identities:\n",
    "\n",
    "$$\n",
    "\\mu_{i|j} = \\mu_i + \\Sigma_{ij}\\Sigma_{jj}^{-1}(x_j - \\mu_j)\n",
    "$$\n",
    "$$\n",
    "\\Sigma_{i|j} = \\Sigma_{ii} - \\Sigma_{ij}\\Sigma_{jj}^{-1} \\Sigma_{ji}\n",
    "$$"
   ]
  },
  {
   "cell_type": "code",
   "execution_count": 7,
   "metadata": {
    "scrolled": true
   },
   "outputs": [
    {
     "name": "stdout",
     "output_type": "stream",
     "text": [
      "X_1,3,4,5 = \n",
      " X_1   -2.214677\n",
      "X_3   -4.122834\n",
      "X_4   -3.088534\n",
      "X_5   -2.493587\n",
      "Name: 3, dtype: float64\n",
      "\n",
      "μ_{2|1,3,4,5,} = X_2   -2.058864\n",
      "dtype: float64\n"
     ]
    }
   ],
   "source": [
    "def conditional_mean(mean, cov, x_j, i, j):\n",
    "    \"\"\"\n",
    "    Calculate $\\mu_{i|j}$, where the first index is ZERO\n",
    "    \"\"\"\n",
    "    μ_i = mean[i]\n",
    "    μ_j = mean[j]\n",
    "    \n",
    "    Σ_ij = cov[np.ix_(i, j)]\n",
    "    Σ_jj = cov[np.ix_(j, j)]\n",
    "    Σ_jj_inv = np.linalg.inv(Σ_jj)\n",
    "\n",
    "    return μ_i + Σ_ij @ Σ_jj_inv @ np.array(x_j - μ_j)\n",
    "\n",
    "i = [2] - np.ones(1, dtype=int)\n",
    "j = [1,3,4,5] - np.ones(1, dtype=int)\n",
    "\n",
    "x_j = data.iloc[3][j]\n",
    "\n",
    "print('X_1,3,4,5 = \\n', x_j)\n",
    "print()\n",
    "print('μ_{2|1,3,4,5,} =', conditional_mean(mean, cov, i=i, j=j, x_j=x_j))"
   ]
  },
  {
   "cell_type": "code",
   "execution_count": 8,
   "metadata": {},
   "outputs": [
    {
     "name": "stdout",
     "output_type": "stream",
     "text": [
      "Σ_{2|1,3,4,5} = [[ 0.30794075]]\n"
     ]
    }
   ],
   "source": [
    "def conditional_cov(cov, i, j):\n",
    "    \"\"\"\n",
    "    Calculate $\\Sigma_{i|j}$, where the first index is ZERO\n",
    "    \"\"\"\n",
    "    Σ_ii = cov[np.ix_(i, i)]\n",
    "    Σ_jj = cov[np.ix_(j, j)]\n",
    "    Σ_ij = cov[np.ix_(i, j)]\n",
    "    Σ_ji = cov[np.ix_(j, i)]\n",
    "    \n",
    "    Σ_jj_inv = np.linalg.inv(Σ_jj)\n",
    "\n",
    "    return Σ_ii - Σ_ij @ Σ_jj_inv @ Σ_ji\n",
    "\n",
    "print('Σ_{2|1,3,4,5} =', conditional_cov(cov, i=i, j=j))"
   ]
  },
  {
   "cell_type": "markdown",
   "metadata": {},
   "source": [
    "For\n",
    "\n",
    "$X_2 | \\mathbf{X}_{1,3,4,5} = (x_1, x_3, x_4, x_5)'$\n",
    "$X_2 | \\mathbf{X}_{1,3,4,5} = (-2.214677, -4.122834, -3.088534, -2.493587)'$\n",
    "\n",
    "We have\n",
    "\n",
    "$$μ_{2|1,3,4,5} = -2.05886390512$$\n",
    "$$Σ_{2|1,3,4,5} = 0.307940750928$$\n"
   ]
  },
  {
   "cell_type": "markdown",
   "metadata": {},
   "source": [
    "## 2.2) $\\mathbf{X}_{1,4}$ and $\\mathbf{X}_{1,4} | \\mathbf{X}_{2,3,5} = (x_2, x_3, x_5)'.$\n",
    "\n",
    "$\\mathbf{X}_{1,4}$"
   ]
  },
  {
   "cell_type": "code",
   "execution_count": 9,
   "metadata": {},
   "outputs": [
    {
     "name": "stdout",
     "output_type": "stream",
     "text": [
      "μ  =  [0.77291470502578141, 0.90916460120595821]\n",
      "σ² = \n",
      " [[ 1.04306317  1.35940949]\n",
      " [ 1.35940949  2.99116633]]\n"
     ]
    }
   ],
   "source": [
    "cov_x14 = np.array([\n",
    "    [cov[0][0], cov[0][3]],\n",
    "    [cov[3][0], cov[3][3]]\n",
    "])\n",
    "\n",
    "print(\"μ  = \", [mean[0]]+[mean[3]])\n",
    "print(\"σ² = \\n\", cov_x14)"
   ]
  },
  {
   "cell_type": "markdown",
   "metadata": {},
   "source": [
    "For calculate the $X_{i|j} = \\mathcal{N}(\\mu_{i|j}, \\Sigma_{i|j})$, we can use the following identities:\n",
    "\n",
    "$$\n",
    "\\mu_{i|j} = \\mu_i + \\Sigma_{ij}\\Sigma_{jj}^{-1}(x_j - \\mu_j)\n",
    "$$\n",
    "$$\n",
    "\\Sigma_{i|j} = \\Sigma_{ii} - \\Sigma_{ij}\\Sigma_{jj}^{-1} \\Sigma_{ji}\n",
    "$$"
   ]
  },
  {
   "cell_type": "code",
   "execution_count": 10,
   "metadata": {},
   "outputs": [
    {
     "name": "stdout",
     "output_type": "stream",
     "text": [
      "X_2,3,5 = \n",
      " X_2   -2.405553\n",
      "X_3   -4.122834\n",
      "X_5   -2.493587\n",
      "Name: 3, dtype: float64\n",
      "\n",
      "μ_{1,4|2,3,5} = \n",
      " X_1   -1.690034\n",
      "X_4   -2.566434\n",
      "dtype: float64\n"
     ]
    }
   ],
   "source": [
    "i = [1,4] - np.ones(1, dtype=int)\n",
    "j = [2,3,5] - np.ones(1, dtype=int)\n",
    "\n",
    "x_j = data.iloc[3][j]\n",
    "\n",
    "print('X_2,3,5 = \\n', x_j)\n",
    "print()\n",
    "print('μ_{1,4|2,3,5} = \\n', conditional_mean(mean, cov, i=i, j=j, x_j=x_j))"
   ]
  },
  {
   "cell_type": "code",
   "execution_count": 11,
   "metadata": {},
   "outputs": [
    {
     "name": "stdout",
     "output_type": "stream",
     "text": [
      "Σ_{2|1,3,4,5} = \n",
      " [[ 0.40276335  0.38531681]\n",
      " [ 0.38531681  0.37073028]]\n"
     ]
    }
   ],
   "source": [
    "print('Σ_{2|1,3,4,5} = \\n', conditional_cov(cov, i=i, j=j))"
   ]
  },
  {
   "cell_type": "markdown",
   "metadata": {},
   "source": [
    "For\n",
    "\n",
    "$X_1,4 | \\mathbf{X}_{2,3,5} = (x_2, x_3, x_5)'$\n",
    "$X_1,4 | \\mathbf{X}_{2,3,5} = (-2.405553, -4.122834, -2.493587)'$\n",
    "\n",
    "We have\n",
    "\n",
    "$$μ_{1,4|2,3,5} = [-1.690034, -2.566434]$$\n",
    "$$Σ_{1,4|2,3,5} = $$\n",
    "```\n",
    "                                               [[ 0.40276335  0.38531681]\n",
    "                                                [ 0.38531681  0.37073028]]\n",
    "```"
   ]
  }
 ],
 "metadata": {
  "anaconda-cloud": {},
  "kernelspec": {
   "display_name": "Python [conda root]",
   "language": "python",
   "name": "conda-root-py"
  },
  "language_info": {
   "codemirror_mode": {
    "name": "ipython",
    "version": 3
   },
   "file_extension": ".py",
   "mimetype": "text/x-python",
   "name": "python",
   "nbconvert_exporter": "python",
   "pygments_lexer": "ipython3",
   "version": "3.5.2"
  }
 },
 "nbformat": 4,
 "nbformat_minor": 2
}
